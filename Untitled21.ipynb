{
  "nbformat": 4,
  "nbformat_minor": 0,
  "metadata": {
    "colab": {
      "provenance": [],
      "authorship_tag": "ABX9TyPuL+fz/TznPf9KGK23421p",
      "include_colab_link": true
    },
    "kernelspec": {
      "name": "python3",
      "display_name": "Python 3"
    },
    "language_info": {
      "name": "python"
    }
  },
  "cells": [
    {
      "cell_type": "markdown",
      "metadata": {
        "id": "view-in-github",
        "colab_type": "text"
      },
      "source": [
        "<a href=\"https://colab.research.google.com/github/GhanshyamRegar/Employee-Management-System/blob/main/Untitled21.ipynb\" target=\"_parent\"><img src=\"https://colab.research.google.com/assets/colab-badge.svg\" alt=\"Open In Colab\"/></a>"
      ]
    },
    {
      "cell_type": "code",
      "execution_count": null,
      "metadata": {
        "colab": {
          "base_uri": "https://localhost:8080/"
        },
        "id": "B4jjaEJmLAVJ",
        "outputId": "55953729-cbb0-4d08-fbfe-1c62f2016a01"
      },
      "outputs": [
        {
          "output_type": "stream",
          "name": "stdout",
          "text": [
            "Requirement already satisfied: numpy in /usr/local/lib/python3.11/dist-packages (2.0.2)\n"
          ]
        }
      ],
      "source": [
        "pip install numpy\n"
      ]
    },
    {
      "cell_type": "markdown",
      "source": [],
      "metadata": {
        "id": "S0cDzVrx-Fje"
      }
    },
    {
      "cell_type": "markdown",
      "source": [
        "Install NumPy"
      ],
      "metadata": {
        "id": "NETRb99OLTpE"
      }
    },
    {
      "cell_type": "code",
      "source": [
        "\n",
        "import numpy as np\n"
      ],
      "metadata": {
        "id": "EWBykpkWLYLV"
      },
      "execution_count": null,
      "outputs": []
    },
    {
      "cell_type": "markdown",
      "source": [
        "Importing NumPy"
      ],
      "metadata": {
        "id": "6AIC_TD6LeKC"
      }
    },
    {
      "cell_type": "code",
      "source": [
        "\n",
        "array_1d = np.arange(1, 21)\n",
        "print(\"1D Array:\", array_1d)\n",
        "\n",
        "\n",
        "print(\"Sum:\", np.sum(array_1d))\n",
        "print(\"Mean:\", np.mean(array_1d))\n",
        "print(\"Median:\", np.median(array_1d))\n",
        "print(\"Standard Deviation:\", np.std(array_1d))\n",
        "\n",
        "\n",
        "indices_gt_10 = np.where(array_1d > 10)\n",
        "print(\"Indices of elements > 10:\", indices_gt_10[0])\n"
      ],
      "metadata": {
        "colab": {
          "base_uri": "https://localhost:8080/"
        },
        "id": "TZ3sqoNJLgAX",
        "outputId": "fab07b1c-e22e-4155-c64d-b2e746f9a663"
      },
      "execution_count": null,
      "outputs": [
        {
          "output_type": "stream",
          "name": "stdout",
          "text": [
            "1D Array: [ 1  2  3  4  5  6  7  8  9 10 11 12 13 14 15 16 17 18 19 20]\n",
            "Sum: 210\n",
            "Mean: 10.5\n",
            "Median: 10.5\n",
            "Standard Deviation: 5.766281297335398\n",
            "Indices of elements > 10: [10 11 12 13 14 15 16 17 18 19]\n"
          ]
        }
      ]
    },
    {
      "cell_type": "markdown",
      "source": [
        "np.arange(1, 21) creates an array from 1 to 20 (inclusive).\n",
        "np.sum, np.mean, np.median, np.std perform standard mathematical operations.\n",
        "np.where(array_1d > 10) returns indices where the condition is True."
      ],
      "metadata": {
        "id": "oJ8DItr7LkHX"
      }
    },
    {
      "cell_type": "code",
      "source": [
        "\n",
        "array_2d = np.arange(1, 17).reshape(4, 4)\n",
        "print(\"2D Array (4x4):\\n\", array_2d)\n",
        "\n",
        "transpose = array_2d.T\n",
        "print(\"Transpose:\\n\", transpose)\n",
        "\n",
        "row_sum = np.sum(array_2d, axis=1)\n",
        "col_sum = np.sum(array_2d, axis=0)\n",
        "print(\"Row-wise Sum:\", row_sum)\n",
        "print(\"Column-wise Sum:\", col_sum)\n"
      ],
      "metadata": {
        "colab": {
          "base_uri": "https://localhost:8080/"
        },
        "id": "ZVS4JfCBL4Kz",
        "outputId": "6ce84cd1-b138-49a5-dcfc-640dc6b9257e"
      },
      "execution_count": null,
      "outputs": [
        {
          "output_type": "stream",
          "name": "stdout",
          "text": [
            "2D Array (4x4):\n",
            " [[ 1  2  3  4]\n",
            " [ 5  6  7  8]\n",
            " [ 9 10 11 12]\n",
            " [13 14 15 16]]\n",
            "Transpose:\n",
            " [[ 1  5  9 13]\n",
            " [ 2  6 10 14]\n",
            " [ 3  7 11 15]\n",
            " [ 4  8 12 16]]\n",
            "Row-wise Sum: [10 26 42 58]\n",
            "Column-wise Sum: [28 32 36 40]\n"
          ]
        }
      ]
    },
    {
      "cell_type": "markdown",
      "source": [
        "np.arange(1, 17).reshape(4, 4) creates a 4x4 array with numbers 1–16.\n",
        "\n",
        ".T is a shorthand for transpose (rows become columns).\n",
        "\n",
        "axis=1 sums across columns (row-wise), axis=0 sums down the rows (column-wise)."
      ],
      "metadata": {
        "id": "_crCAq6uMDt2"
      }
    },
    {
      "cell_type": "code",
      "source": [
        "array_A = np.random.randint(1, 21, size=(3, 3))\n",
        "array_B = np.random.randint(1, 21, size=(3, 3))\n",
        "\n",
        "print(\"Array A:\\n\", array_A)\n",
        "print(\"Array B:\\n\", array_B)\n",
        "\n",
        "print(\"Addition:\\n\", array_A + array_B)\n",
        "print(\"Subtraction:\\n\", array_A - array_B)\n",
        "print(\"Multiplication:\\n\", array_A * array_B)\n",
        "\n",
        "dot_product = np.dot(array_A, array_B)\n",
        "print(\"Dot Product:\\n\", dot_product)\n"
      ],
      "metadata": {
        "colab": {
          "base_uri": "https://localhost:8080/"
        },
        "id": "ibpxmi8ZMHXf",
        "outputId": "8318ee4d-0b65-423b-c824-03740e82fce6"
      },
      "execution_count": null,
      "outputs": [
        {
          "output_type": "stream",
          "name": "stdout",
          "text": [
            "Array A:\n",
            " [[ 3 11 13]\n",
            " [ 9  5 17]\n",
            " [ 5 18 11]]\n",
            "Array B:\n",
            " [[12  8  2]\n",
            " [14 13 16]\n",
            " [18  7 15]]\n",
            "Addition:\n",
            " [[15 19 15]\n",
            " [23 18 33]\n",
            " [23 25 26]]\n",
            "Subtraction:\n",
            " [[ -9   3  11]\n",
            " [ -5  -8   1]\n",
            " [-13  11  -4]]\n",
            "Multiplication:\n",
            " [[ 36  88  26]\n",
            " [126  65 272]\n",
            " [ 90 126 165]]\n",
            "Dot Product:\n",
            " [[424 258 377]\n",
            " [484 256 353]\n",
            " [510 351 463]]\n"
          ]
        }
      ]
    },
    {
      "cell_type": "markdown",
      "source": [
        "np.random.randint(1, 21, size=(3, 3)) creates random integers in a 3x3 shape.\n",
        "\n",
        "+, -, * apply element-wise operations.\n",
        "\n",
        "np.dot(A, B) performs matrix multiplication (dot product)."
      ],
      "metadata": {
        "id": "nMba-DReMLWC"
      }
    },
    {
      "cell_type": "code",
      "source": [
        "array_reshaped = np.arange(1, 13).reshape(3, 4)\n",
        "print(\"Reshaped Array (3x4):\\n\", array_reshaped)\n",
        "\n",
        "sliced = array_reshaped[:2, -2:]\n",
        "print(\"Sliced [First 2 rows, Last 2 columns]:\\n\", sliced)\n"
      ],
      "metadata": {
        "colab": {
          "base_uri": "https://localhost:8080/"
        },
        "id": "P4DPgXXIMXtX",
        "outputId": "3bd66d20-4740-45ca-afc5-59b73f4f1a13"
      },
      "execution_count": null,
      "outputs": [
        {
          "output_type": "stream",
          "name": "stdout",
          "text": [
            "Reshaped Array (3x4):\n",
            " [[ 1  2  3  4]\n",
            " [ 5  6  7  8]\n",
            " [ 9 10 11 12]]\n",
            "Sliced [First 2 rows, Last 2 columns]:\n",
            " [[3 4]\n",
            " [7 8]]\n"
          ]
        }
      ]
    },
    {
      "cell_type": "markdown",
      "source": [
        "np.arange(1, 13) creates numbers from 1 to 12.\n",
        ".reshape(3, 4) converts it into 3 rows and 4 columns.\n",
        "[:2, -2:] slices:\n",
        ":2 selects first two rows\n",
        "-2: selects the last two columns"
      ],
      "metadata": {
        "id": "LNp-Hzv7MhHP"
      }
    },
    {
      "cell_type": "markdown",
      "source": [
        "working with pandas"
      ],
      "metadata": {
        "id": "rX2q4VczMvpi"
      }
    },
    {
      "cell_type": "code",
      "source": [
        "pip install pandas"
      ],
      "metadata": {
        "colab": {
          "base_uri": "https://localhost:8080/"
        },
        "id": "7D8otfnDM0Zr",
        "outputId": "5b85889c-dc1d-461b-f4e6-517788736ded"
      },
      "execution_count": null,
      "outputs": [
        {
          "output_type": "stream",
          "name": "stdout",
          "text": [
            "Requirement already satisfied: pandas in /usr/local/lib/python3.11/dist-packages (2.2.2)\n",
            "Requirement already satisfied: numpy>=1.23.2 in /usr/local/lib/python3.11/dist-packages (from pandas) (2.0.2)\n",
            "Requirement already satisfied: python-dateutil>=2.8.2 in /usr/local/lib/python3.11/dist-packages (from pandas) (2.9.0.post0)\n",
            "Requirement already satisfied: pytz>=2020.1 in /usr/local/lib/python3.11/dist-packages (from pandas) (2025.2)\n",
            "Requirement already satisfied: tzdata>=2022.7 in /usr/local/lib/python3.11/dist-packages (from pandas) (2025.2)\n",
            "Requirement already satisfied: six>=1.5 in /usr/local/lib/python3.11/dist-packages (from python-dateutil>=2.8.2->pandas) (1.17.0)\n"
          ]
        }
      ]
    },
    {
      "cell_type": "markdown",
      "source": [
        "install pandas"
      ],
      "metadata": {
        "id": "Qe2TCdc0M2az"
      }
    },
    {
      "cell_type": "code",
      "source": [
        "import pandas as pd\n"
      ],
      "metadata": {
        "id": "tfaq-yt2M46i"
      },
      "execution_count": null,
      "outputs": []
    },
    {
      "cell_type": "markdown",
      "source": [
        " Create Python Script and Import Pandas"
      ],
      "metadata": {
        "id": "vLWYP0XOM8IA"
      }
    },
    {
      "cell_type": "code",
      "source": [
        "data = {\n",
        "    'Name': ['manish', 'pradeep', 'gannu', 'ravina', 'ravi'],\n",
        "    'Age': [24, 27, 22, 32, 29],\n",
        "    'Department': ['HR', 'Finance', 'IT', 'Marketing', 'HR'],\n",
        "    'Salary': [45000, 54000, 50000, 62000, 47000]\n",
        "}\n",
        "\n",
        "df = pd.DataFrame(data)\n",
        "\n",
        "print(\"First 5 rows of the DataFrame:\")\n",
        "print(df.head())\n",
        "\n",
        "print(\"\\nSummary statistics for Age and Salary:\")\n",
        "print(df[['Age', 'Salary']].describe())\n",
        "\n",
        "hr_avg_salary = df[df['Department'] == 'HR']['Salary'].mean()\n",
        "print(\"\\nAverage salary in HR department:\", hr_avg_salary)\n"
      ],
      "metadata": {
        "colab": {
          "base_uri": "https://localhost:8080/"
        },
        "id": "OYIXT4rcM-SW",
        "outputId": "c44ccd36-2359-4004-fdbe-fc747b3b0cde"
      },
      "execution_count": null,
      "outputs": [
        {
          "output_type": "stream",
          "name": "stdout",
          "text": [
            "First 5 rows of the DataFrame:\n",
            "      Name  Age Department  Salary\n",
            "0   manish   24         HR   45000\n",
            "1  pradeep   27    Finance   54000\n",
            "2    gannu   22         IT   50000\n",
            "3   ravina   32  Marketing   62000\n",
            "4     ravi   29         HR   47000\n",
            "\n",
            "Summary statistics for Age and Salary:\n",
            "             Age        Salary\n",
            "count   5.000000      5.000000\n",
            "mean   26.800000  51600.000000\n",
            "std     3.962323   6730.527468\n",
            "min    22.000000  45000.000000\n",
            "25%    24.000000  47000.000000\n",
            "50%    27.000000  50000.000000\n",
            "75%    29.000000  54000.000000\n",
            "max    32.000000  62000.000000\n",
            "\n",
            "Average salary in HR department: 46000.0\n"
          ]
        }
      ]
    },
    {
      "cell_type": "markdown",
      "source": [
        "pd.DataFrame(data) creates a table-like structure.\n",
        "\n",
        ".head() shows the first 5 rows.\n",
        "\n",
        ".describe() gives count, mean, min, max, etc., for numeric columns.\n",
        "\n",
        "df[df['Department'] == 'HR'] filters only HR employees.\n",
        "\n",
        "['Salary'].mean() calculates their average salary."
      ],
      "metadata": {
        "id": "eJ61p3GqNH52"
      }
    },
    {
      "cell_type": "code",
      "source": [
        "df['Bonus'] = df['Salary'] * 0.10\n",
        "\n",
        "print(\"\\nDataFrame after adding Bonus column:\")\n",
        "print(df)\n"
      ],
      "metadata": {
        "id": "tQsM4uBTNXEX"
      },
      "execution_count": null,
      "outputs": []
    },
    {
      "cell_type": "markdown",
      "source": [
        "df['Bonus'] = df['Salary'] * 0.10 adds a new column by multiplying the Salary by 10%.\n",
        "\n",
        "Now each employee has a bonus amount in the new column."
      ],
      "metadata": {
        "id": "5cG6ULSQNWk9"
      }
    },
    {
      "cell_type": "code",
      "source": [
        "filtered_df = df[(df['Age'] >= 25) & (df['Age'] <= 30)]\n",
        "\n",
        "print(\"\\nEmployees aged between 25 and 30:\")\n",
        "print(filtered_df)\n"
      ],
      "metadata": {
        "colab": {
          "base_uri": "https://localhost:8080/"
        },
        "id": "I0ASTmsyNd7A",
        "outputId": "bfef880b-7598-4c42-f274-df5d86d618a2"
      },
      "execution_count": null,
      "outputs": [
        {
          "output_type": "stream",
          "name": "stdout",
          "text": [
            "\n",
            "Employees aged between 25 and 30:\n",
            "      Name  Age Department  Salary\n",
            "1  pradeep   27    Finance   54000\n",
            "4     ravi   29         HR   47000\n"
          ]
        }
      ]
    },
    {
      "cell_type": "markdown",
      "source": [
        "(df['Age'] >= 25) & (df['Age'] <= 30) sets a condition.\n",
        "\n",
        "The filtered result shows only those rows where age is in the given range."
      ],
      "metadata": {
        "id": "rU7gjxgyNjZv"
      }
    },
    {
      "cell_type": "code",
      "source": [
        "\n",
        "avg_salary_by_dept = df.groupby('Department')['Salary'].mean()\n",
        "\n",
        "print(\"\\nAverage salary by Department:\")\n",
        "print(avg_salary_by_dept)\n"
      ],
      "metadata": {
        "colab": {
          "base_uri": "https://localhost:8080/"
        },
        "id": "WrKa5n5rNknX",
        "outputId": "360e4a5e-f8f3-45e2-934c-2e4382a7d4c2"
      },
      "execution_count": null,
      "outputs": [
        {
          "output_type": "stream",
          "name": "stdout",
          "text": [
            "\n",
            "Average salary by Department:\n",
            "Department\n",
            "Finance      54000.0\n",
            "HR           46000.0\n",
            "IT           50000.0\n",
            "Marketing    62000.0\n",
            "Name: Salary, dtype: float64\n"
          ]
        }
      ]
    },
    {
      "cell_type": "markdown",
      "source": [
        "groupby('Department') groups data based on the department.\n",
        "\n",
        "['Salary'].mean() calculates average salary for each group."
      ],
      "metadata": {
        "id": "-wjcMe-PNmoF"
      }
    },
    {
      "cell_type": "code",
      "source": [
        "\n",
        "sorted_df = df.sort_values(by='Salary', ascending=True)\n",
        "\n",
        "print(\"\\nDataFrame sorted by Salary (ascending):\")\n",
        "print(sorted_df)\n",
        "\n",
        "sorted_df.to_csv(\"sorted_employees.csv\", index=False)\n"
      ],
      "metadata": {
        "colab": {
          "base_uri": "https://localhost:8080/"
        },
        "id": "NC77wzR0NqJl",
        "outputId": "0b4bd049-fb8a-4acb-9ec4-a6ce6ac45abc"
      },
      "execution_count": null,
      "outputs": [
        {
          "output_type": "stream",
          "name": "stdout",
          "text": [
            "\n",
            "DataFrame sorted by Salary (ascending):\n",
            "      Name  Age Department  Salary\n",
            "0   manish   24         HR   45000\n",
            "4     ravi   29         HR   47000\n",
            "2    gannu   22         IT   50000\n",
            "1  pradeep   27    Finance   54000\n",
            "3   ravina   32  Marketing   62000\n"
          ]
        }
      ]
    },
    {
      "cell_type": "markdown",
      "source": [
        "sort_values(by='Salary') sorts by salary.\n",
        "\n",
        "ascending=True makes sure it's in increasing order.\n",
        "\n",
        ".to_csv(\"sorted_employees.csv\", index=False) saves the file without row numbers."
      ],
      "metadata": {
        "id": "77dXlkSlN1Lc"
      }
    },
    {
      "cell_type": "code",
      "source": [],
      "metadata": {
        "id": "NpbEf60vN2pI"
      },
      "execution_count": null,
      "outputs": []
    },
    {
      "cell_type": "markdown",
      "source": [
        "installing matlplotlib"
      ],
      "metadata": {
        "id": "ZW7IG6G9-Hrn"
      }
    },
    {
      "cell_type": "code",
      "source": [
        "pip install matplotlib\n"
      ],
      "metadata": {
        "id": "y3C3ieDo-KPt",
        "outputId": "f48dc6a3-0974-490c-c944-d242ebbcb26a",
        "colab": {
          "base_uri": "https://localhost:8080/"
        }
      },
      "execution_count": 1,
      "outputs": [
        {
          "output_type": "stream",
          "name": "stdout",
          "text": [
            "Requirement already satisfied: matplotlib in /usr/local/lib/python3.11/dist-packages (3.10.0)\n",
            "Requirement already satisfied: contourpy>=1.0.1 in /usr/local/lib/python3.11/dist-packages (from matplotlib) (1.3.2)\n",
            "Requirement already satisfied: cycler>=0.10 in /usr/local/lib/python3.11/dist-packages (from matplotlib) (0.12.1)\n",
            "Requirement already satisfied: fonttools>=4.22.0 in /usr/local/lib/python3.11/dist-packages (from matplotlib) (4.58.4)\n",
            "Requirement already satisfied: kiwisolver>=1.3.1 in /usr/local/lib/python3.11/dist-packages (from matplotlib) (1.4.8)\n",
            "Requirement already satisfied: numpy>=1.23 in /usr/local/lib/python3.11/dist-packages (from matplotlib) (2.0.2)\n",
            "Requirement already satisfied: packaging>=20.0 in /usr/local/lib/python3.11/dist-packages (from matplotlib) (24.2)\n",
            "Requirement already satisfied: pillow>=8 in /usr/local/lib/python3.11/dist-packages (from matplotlib) (11.2.1)\n",
            "Requirement already satisfied: pyparsing>=2.3.1 in /usr/local/lib/python3.11/dist-packages (from matplotlib) (3.2.3)\n",
            "Requirement already satisfied: python-dateutil>=2.7 in /usr/local/lib/python3.11/dist-packages (from matplotlib) (2.9.0.post0)\n",
            "Requirement already satisfied: six>=1.5 in /usr/local/lib/python3.11/dist-packages (from python-dateutil>=2.7->matplotlib) (1.17.0)\n"
          ]
        }
      ]
    },
    {
      "cell_type": "code",
      "source": [
        "import matplotlib.pyplot as plt\n",
        "import numpy as np"
      ],
      "metadata": {
        "id": "VfcaRu5j-QZN"
      },
      "execution_count": 2,
      "outputs": []
    },
    {
      "cell_type": "code",
      "source": [
        "x = [1, 2, 3, 4, 5]\n",
        "y = [10, 15, 25, 30, 50]\n",
        "\n",
        "plt.plot(x, y, marker='o', linestyle='-', color='blue')\n",
        "plt.title(\"Simple Line Plot\")\n",
        "plt.xlabel(\"X-axis\")\n",
        "plt.ylabel(\"Y-axis\")\n",
        "plt.grid(True)\n",
        "plt.show()\n"
      ],
      "metadata": {
        "id": "zvizEc13-jXq",
        "outputId": "54c6ee88-079e-428f-9182-49740ef7d80c",
        "colab": {
          "base_uri": "https://localhost:8080/",
          "height": 472
        }
      },
      "execution_count": 3,
      "outputs": [
        {
          "output_type": "display_data",
          "data": {
            "text/plain": [
              "<Figure size 640x480 with 1 Axes>"
            ],
            "image/png": "[encoded data removed]"
          },
          "metadata": {}
        }
      ]
    },
    {
      "cell_type": "markdown",
      "source": [
        "plt.plot() draws the line.\n",
        "\n",
        "marker='o' puts a dot at each data point.\n",
        "\n",
        "title, xlabel, ylabel add labels and title.\n",
        "\n",
        "grid(True) adds horizontal and vertical reference lines."
      ],
      "metadata": {
        "id": "nHCa2aN7-pAk"
      }
    },
    {
      "cell_type": "code",
      "source": [
        "students = ['John', 'Jane', 'Alice', 'Bob']\n",
        "marks = [75, 85, 60, 90]\n",
        "\n",
        "plt.bar(students, marks, color=['skyblue', 'pink', 'green', 'orange'])\n",
        "plt.title(\"Marks of Students\")\n",
        "plt.xlabel(\"Students\")\n",
        "plt.ylabel(\"Marks\")\n",
        "plt.show()\n"
      ],
      "metadata": {
        "id": "iP9iFBGR-p7o",
        "outputId": "9881686f-98a6-43d1-ffb6-384e2651c0c1",
        "colab": {
          "base_uri": "https://localhost:8080/",
          "height": 472
        }
      },
      "execution_count": 4,
      "outputs": [
        {
          "output_type": "display_data",
          "data": {
            "text/plain": [
              "<Figure size 640x480 with 1 Axes>"
            ],
            "image/png": "[encoded data removed]"
          },
          "metadata": {}
        }
      ]
    },
    {
      "cell_type": "markdown",
      "source": [
        "plt.bar() creates vertical bars.\n",
        "\n",
        "The color parameter gives each bar a distinct color.\n",
        "\n",
        "xlabel, ylabel, title label the chart meaningfully."
      ],
      "metadata": {
        "id": "lSn6fkIc-sww"
      }
    },
    {
      "cell_type": "code",
      "source": [
        "regions = ['North America', 'Europe', 'Asia', 'Others']\n",
        "revenue = [45, 25, 20, 10]\n",
        "\n",
        "explode = [0.1 if val == max(revenue) else 0 for val in revenue]\n",
        "\n",
        "plt.pie(revenue, labels=regions, autopct='%1.1f%%', startangle=90, explode=explode, shadow=True)\n",
        "plt.title(\"Revenue Distribution by Region\")\n",
        "plt.axis('equal')\n",
        "plt.show()\n"
      ],
      "metadata": {
        "id": "krGD71wy-vaT",
        "outputId": "c44e4f7a-3f6f-4489-9bfa-f85b45f995d4",
        "colab": {
          "base_uri": "https://localhost:8080/",
          "height": 428
        }
      },
      "execution_count": 5,
      "outputs": [
        {
          "output_type": "display_data",
          "data": {
            "text/plain": [
              "<Figure size 640x480 with 1 Axes>"
            ],
            "image/png": "[encoded data removed]"
          },
          "metadata": {}
        }
      ]
    },
    {
      "cell_type": "markdown",
      "source": [
        "plt.pie() creates the pie chart.\n",
        "\n",
        "explode is used to pull out the slice with the highest revenue.\n",
        "\n",
        "autopct='%1.1f%%' shows percentage values.\n",
        "\n",
        "shadow=True adds a 3D look.\n",
        "\n",
        "axis('equal') keeps it circular."
      ],
      "metadata": {
        "id": "yHpqnGNn-0Bh"
      }
    },
    {
      "cell_type": "code",
      "source": [
        "data = np.random.randint(1, 101, 1000)\n",
        "\n",
        "plt.hist(data, bins=10, color='purple', edgecolor='black')\n",
        "plt.title(\"Frequency Distribution of Random Integers\")\n",
        "plt.xlabel(\"Value Range\")\n",
        "plt.ylabel(\"Frequency\")\n",
        "plt.grid(True)\n",
        "plt.show()\n"
      ],
      "metadata": {
        "id": "o7muyz-b-0mm",
        "outputId": "97c23630-11b9-403a-ff0c-965b71353edb",
        "colab": {
          "base_uri": "https://localhost:8080/",
          "height": 472
        }
      },
      "execution_count": 6,
      "outputs": [
        {
          "output_type": "display_data",
          "data": {
            "text/plain": [
              "<Figure size 640x480 with 1 Axes>"
            ],
            "image/png": "[encoded data removed]"
          },
          "metadata": {}
        }
      ]
    },
    {
      "cell_type": "markdown",
      "source": [
        "np.random.randint(1, 101, 1000) generates 1000 random integers between 1 and 100.\n",
        "\n",
        "plt.hist() creates the histogram.\n",
        "\n",
        "bins=10 divides the range into 10 intervals.\n",
        "\n",
        "edgecolor='black' outlines each bar for clarity.\n",
        "\n",
        "xlabel, ylabel, title, and grid(True) make the graph easier to understand."
      ],
      "metadata": {
        "id": "kWLouP8N_BhP"
      }
    }
  ]
}