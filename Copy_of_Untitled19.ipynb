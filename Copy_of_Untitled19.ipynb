{
  "nbformat": 4,
  "nbformat_minor": 0,
  "metadata": {
    "colab": {
      "provenance": [],
      "authorship_tag": "ABX9TyPtyKMvnuryW2G0dYmfv0uy",
      "include_colab_link": true
    },
    "kernelspec": {
      "name": "python3",
      "display_name": "Python 3"
    },
    "language_info": {
      "name": "python"
    }
  },
  "cells": [
    {
      "cell_type": "markdown",
      "metadata": {
        "id": "view-in-github",
        "colab_type": "text"
      },
      "source": [
        "<a href=\"https://colab.research.google.com/github/GhanshyamRegar/Employee-Management-System/blob/main/Copy_of_Untitled19.ipynb\" target=\"_parent\"><img src=\"https://colab.research.google.com/assets/colab-badge.svg\" alt=\"Open In Colab\"/></a>"
      ]
    },
    {
      "cell_type": "code",
      "execution_count": null,
      "metadata": {
        "colab": {
          "base_uri": "https://localhost:8080/"
        },
        "id": "9GSe8kLKmF0j",
        "outputId": "c98b5cb0-4f4c-4aa2-d203-fae3c447881a"
      },
      "outputs": [
        {
          "output_type": "stream",
          "name": "stdout",
          "text": [
            "Coin Toss Simulation (10000 trials):\n",
            "Heads: 4991 (Probability: 0.4991)\n",
            "Tails: 5009 (Probability: 0.5009)\n",
            "\n",
            "Dice Sum Simulation (10000 trials):\n",
            "Sum = 7 occurred 1636 times (Probability: 0.1636)\n",
            "\n"
          ]
        }
      ],
      "source": [
        "import random\n",
        "\n",
        "# Part a: Tossing a coin 10,000 times\n",
        "def coin_toss_simulation(trials=10000):\n",
        "    heads = 0\n",
        "    tails = 0\n",
        "    for _ in range(trials):\n",
        "        toss = random.choice(['Heads', 'Tails'])\n",
        "        if toss == 'Heads':\n",
        "            heads += 1\n",
        "        else:\n",
        "            tails += 1\n",
        "    print(\"Coin Toss Simulation ({} trials):\".format(trials))\n",
        "    print(\"Heads: {} (Probability: {:.4f})\".format(heads, heads / trials))\n",
        "    print(\"Tails: {} (Probability: {:.4f})\".format(tails, tails / trials))\n",
        "    print()\n",
        "\n",
        "# Part b: Rolling two dice and computing probability of getting sum = 7\n",
        "def dice_sum_simulation(trials=10000):\n",
        "    sum_7 = 0\n",
        "    for _ in range(trials):\n",
        "        die1 = random.randint(1, 6)\n",
        "        die2 = random.randint(1, 6)\n",
        "        if die1 + die2 == 7:\n",
        "            sum_7 += 1\n",
        "    print(\"Dice Sum Simulation ({} trials):\".format(trials))\n",
        "    print(\"Sum = 7 occurred {} times (Probability: {:.4f})\".format(sum_7, sum_7 / trials))\n",
        "    print()\n",
        "\n",
        "# Run simulations\n",
        "coin_toss_simulation()\n",
        "dice_sum_simulation()\n",
        "\n",
        "\n",
        "\n",
        "\n",
        "\n"
      ]
    },
    {
      "cell_type": "markdown",
      "source": [
        "Part A: Coin Toss\n",
        "We toss a coin 10,000 times.\n",
        "\n",
        "Each toss randomly gives us either \"Heads\" or \"Tails\".\n",
        "\n",
        "We count how many times we get each outcome.\n",
        "\n",
        "Then we calculate and print the experimental probability, which means:\n",
        "\n",
        "Probability = Number of outcomes / Total trials\n",
        "\n",
        "\n",
        "\n",
        "Part B: Dice Roll for Sum = 7\n",
        "We roll two dice 10,000 times.\n",
        "\n",
        "For each trial, we check the sum of the two dice.\n",
        "\n",
        "If the sum is 7 (which is the most probable sum in a fair dice roll), we count it.\n",
        "\n",
        "Then we calculate how often this happens and show the probability.\n",
        "\n",
        "\n"
      ],
      "metadata": {
        "id": "6-ycVMlRpMOR"
      }
    },
    {
      "cell_type": "markdown",
      "source": [],
      "metadata": {
        "id": "OeytvV05pIcF"
      }
    },
    {
      "cell_type": "code",
      "source": [
        "import random\n",
        "\n",
        "def estimate_probability(num_trials):\n",
        "    success_count = 0\n",
        "\n",
        "    for _ in range(num_trials):\n",
        "        has_six = False\n",
        "        for _ in range(10):  # Roll the die 10 times\n",
        "            roll = random.randint(1, 6)\n",
        "            if roll == 6:\n",
        "                has_six = True\n",
        "                break  # No need to continue rolling\n",
        "        if has_six:\n",
        "            success_count += 1\n",
        "\n",
        "    probability = success_count / num_trials\n",
        "    return probability\n",
        "\n",
        "# Run the simulation with 10,000 trials\n",
        "estimated_prob = estimate_probability(10000)\n",
        "print(\"Estimated Probability of getting at least one '6' in 10 rolls:\", estimated_prob)\n"
      ],
      "metadata": {
        "colab": {
          "base_uri": "https://localhost:8080/"
        },
        "id": "JRQlw7TeoIe0",
        "outputId": "eb46786c-0b6d-4964-fec0-e56ee31bc537"
      },
      "execution_count": null,
      "outputs": [
        {
          "output_type": "stream",
          "name": "stdout",
          "text": [
            "Estimated Probability of getting at least one '6' in 10 rolls: 0.8385\n",
            "Based on 10000 simulated trials.\n"
          ]
        }
      ]
    },
    {
      "cell_type": "markdown",
      "source": [
        "We repeat the experiment (called a trial) many times — like 10,000 times.\n",
        "\n",
        "In each trial, we roll a die 10 times.\n",
        "\n",
        "If any of those 10 rolls results in a 6, we count that trial as a success.\n",
        "\n",
        "After all trials are done, we calculate the ratio of successful trials to total trials.\n",
        "\n",
        "As soon as we find a \"6\", we don’t need to roll more in that trial — we already know it's a success. This saves time.\n",
        "\n",
        "The function returns the estimated probability (around 0.84 or 84%) that at least one 6 appears in 10 rolls."
      ],
      "metadata": {
        "id": "GGqsuagkqEd9"
      }
    },
    {
      "cell_type": "code",
      "source": [
        "import random\n",
        "\n",
        "def simulate_draws(trials=1000):\n",
        "    # Bag setup\n",
        "    balls = ['red'] * 5 + ['green'] * 7 + ['blue'] * 8\n",
        "    total_draws = len(balls)\n",
        "\n",
        "    # Store the sequence of draws\n",
        "    draws = []\n",
        "    for _ in range(trials):\n",
        "        draw = random.choice(balls)\n",
        "        draws.append(draw)\n",
        "\n",
        "    return draws\n",
        "\n",
        "def estimate_conditional_probabilities(draws):\n",
        "    total_blue_followed_by_red = 0\n",
        "    total_blue_preceding = 0\n",
        "\n",
        "    for i in range(1, len(draws)):\n",
        "        if draws[i - 1] == 'blue':\n",
        "            total_blue_preceding += 1\n",
        "            if draws[i] == 'red':\n",
        "                total_blue_followed_by_red += 1\n",
        "\n",
        "    # P(Red | Blue before)\n",
        "    if total_blue_preceding == 0:\n",
        "        return 0, 0, 0, 0\n",
        "\n",
        "    p_red_given_blue = total_blue_followed_by_red / total_blue_preceding\n",
        "\n",
        "    # For Bayes' Theorem verification\n",
        "    p_red = draws.count('red') / len(draws)\n",
        "    p_blue = draws.count('blue') / len(draws)\n",
        "    # P(Blue | Red before)\n",
        "    total_red_preceding = 0\n",
        "    total_red_followed_by_blue = 0\n",
        "    for i in range(1, len(draws)):\n",
        "        if draws[i - 1] == 'red':\n",
        "            total_red_preceding += 1\n",
        "            if draws[i] == 'blue':\n",
        "                total_red_followed_by_blue += 1\n",
        "    p_blue_given_red = total_red_followed_by_blue / total_red_preceding if total_red_preceding else 0\n",
        "\n",
        "    # Bayes' Theorem: P(R|B) ≈ [P(B|R) * P(R)] / P(B)\n",
        "    bayes_rhs = (p_blue_given_red * p_red) / p_blue if p_blue != 0 else 0\n",
        "\n",
        "    return p_red_given_blue, p_red, p_blue, bayes_rhs\n",
        "\n",
        "# Run the simulation\n",
        "draws = simulate_draws(1000)\n",
        "p_red_given_blue, p_red, p_blue, bayes_rhs = estimate_conditional_probabilities(draws)\n",
        "\n",
        "# Output results\n",
        "print(\"P(Red | Blue before) from simulation:\", round(p_red_given_blue, 4))\n",
        "print(\"P(Red):\", round(p_red, 4))\n",
        "print(\"P(Blue):\", round(p_blue, 4))\n",
        "print(\"P(Red | Blue) using Bayes' Theorem (estimated):\", round(bayes_rhs, 4))\n"
      ],
      "metadata": {
        "id": "4qIMbQkopF0d"
      },
      "execution_count": null,
      "outputs": []
    },
    {
      "cell_type": "markdown",
      "source": [
        "Simulation:\n",
        "We simulate 1000 draws with replacement. Each draw picks a ball randomly based on the count of colors.\n",
        "\n",
        "Conditional Probability Estimation:\n",
        "We count how often a red ball is drawn right after a blue one. This gives us:\n",
        "\n",
        "\n",
        "𝑃 ( Red ∣ Blue before ) = Red after Blue Total Blue as previous P(Red∣Blue before)= Total Blue as previous Red after Blue​\n",
        "\n",
        "Bayes' Theorem Verification:\n",
        "Bayes' theorem states:\n",
        "\n",
        "𝑃 ( Red ∣ Blue before ) = 𝑃 ( Blue ∣ Red before ) ⋅ 𝑃 ( Red ) 𝑃 ( Blue ) P(Red∣Blue before)= P(Blue) P(Blue∣Red before)⋅P(Red)​\n",
        "\n",
        "Comparison: We compare the simulated P(Red | Blue before) with the one calculated using Bayes’ formula to see how closely they match.\n"
      ],
      "metadata": {
        "id": "7pf9I46Iqhxj"
      }
    },
    {
      "cell_type": "code",
      "source": [
        "import numpy as np\n",
        "\n",
        "# Step a: Generate the sample\n",
        "values = [1, 2, 3]\n",
        "probabilities = [0.25, 0.35, 0.4]\n",
        "\n",
        "sample = np.random.choice(values, size=1000, p=probabilities)\n",
        "\n",
        "# Step b: Compute statistics\n",
        "mean = np.mean(sample)\n",
        "variance = np.var(sample)\n",
        "std_deviation = np.std(sample)\n",
        "\n",
        "# Output the results\n",
        "print(\"Empirical Mean:\", round(mean, 4))\n",
        "print(\"Empirical Variance:\", round(variance, 4))\n",
        "print(\"Empirical Standard Deviation:\", round(std_deviation, 4))\n"
      ],
      "metadata": {
        "id": "yyfJvyS-rGhr"
      },
      "execution_count": null,
      "outputs": []
    },
    {
      "cell_type": "markdown",
      "source": [
        "Step a: Sampling\n",
        "\n",
        "np.random.choice() is used to draw 1000 samples based on the given discrete probability distribution:\n",
        "\n",
        "𝑃 ( 𝑋 = 1 ) = 0.25 P(X=1)=0.25\n",
        "\n",
        "𝑃 ( 𝑋 = 2 ) = 0.35 P(X=2)=0.35\n",
        "\n",
        "𝑃 ( 𝑋 = 3 ) = 0.40 P(X=3)=0.40\n",
        "\n",
        "Step b: Calculation\n",
        "\n",
        "np.mean() gives the average value (empirical mean) from the sample.\n",
        "\n",
        "np.var() gives the empirical variance (how much the values spread out from the mean).\n",
        "\n",
        "np.std() gives the standard deviation, which is the square root of the variance."
      ],
      "metadata": {
        "id": "DvzbuyQIrnIy"
      }
    },
    {
      "cell_type": "code",
      "source": [
        "import numpy as np\n",
        "import matplotlib.pyplot as plt\n",
        "from scipy.stats import expon\n",
        "\n",
        "# Step a: Generate 2000 samples from exponential distribution with mean = 5\n",
        "scale = 5  # mean = 1/lambda → scale = 1/lambda = mean\n",
        "samples = np.random.exponential(scale=scale, size=2000)\n",
        "\n",
        "# Step b: Plot histogram and PDF\n",
        "plt.figure(figsize=(10, 6))\n",
        "\n",
        "# Histogram\n",
        "count, bins, ignored = plt.hist(samples, bins=50, density=True, alpha=0.6, color='skyblue', label='Histogram')\n",
        "\n",
        "# PDF overlay using scipy.stats.expon\n",
        "x = np.linspace(0, max(samples), 1000)\n",
        "pdf = expon.pdf(x, scale=scale)\n",
        "plt.plot(x, pdf, 'r-', lw=2, label='PDF (Exponential, mean=5)')\n",
        "\n",
        "# Labels and title\n",
        "plt.title('Exponential Distribution (mean=5): Histogram and PDF')\n",
        "plt.xlabel('Value')\n",
        "plt.ylabel('Probability Density')\n",
        "plt.legend()\n",
        "plt.grid(True)\n",
        "plt.tight_layout()\n",
        "\n",
        "# Show plot\n",
        "plt.show()\n"
      ],
      "metadata": {
        "id": "B30t_Uywr5y4"
      },
      "execution_count": null,
      "outputs": []
    },
    {
      "cell_type": "markdown",
      "source": [
        "Exponential Distribution:\n",
        "\n",
        "Mean = 1 𝜆 λ 1​, so if mean = 5, then 𝜆 = 1 5 λ= 5 1​, and scale=5 in numpy.\n",
        "\n",
        "Histogram:\n",
        "\n",
        "Shows how the simulated data is distributed.\n",
        "\n",
        "PDF Overlay:\n",
        "\n",
        "Uses scipy.stats.expon.pdf() to plot the theoretical curve of the exponential distribution with mean 5.\n",
        "\n",
        "Output Visualization: The histogram is skewed right, with many values near 0."
      ],
      "metadata": {
        "id": "rqczkxycr8Pg"
      }
    },
    {
      "cell_type": "code",
      "source": [
        "import numpy as np\n",
        "import matplotlib.pyplot as plt\n",
        "\n",
        "# Step a: Generate 10,000 random numbers from a uniform distribution\n",
        "population = np.random.uniform(low=0, high=1, size=10000)\n",
        "\n",
        "# Step b: Draw 1000 samples, each of size 30, and calculate their means\n",
        "sample_means = []\n",
        "n = 30\n",
        "for _ in range(1000):\n",
        "    sample = np.random.choice(population, size=n)\n",
        "    sample_means.append(np.mean(sample))\n",
        "\n",
        "# Step c: Plot the uniform distribution and the sample mean distribution\n",
        "plt.figure(figsize=(12, 6))\n",
        "\n",
        "# Plot 1: Uniform distribution histogram\n",
        "plt.subplot(1, 2, 1)\n",
        "plt.hist(population, bins=50, color='skyblue', edgecolor='black', density=True)\n",
        "plt.title(\"Original Uniform Distribution\")\n",
        "plt.xlabel(\"Value\")\n",
        "plt.ylabel(\"Density\")\n",
        "plt.grid(True)\n",
        "\n",
        "# Plot 2: Sample mean distribution histogram\n",
        "plt.subplot(1, 2, 2)\n",
        "plt.hist(sample_means, bins=50, color='salmon', edgecolor='black', density=True)\n",
        "plt.title(\"Distribution of Sample Means (n=30)\")\n",
        "plt.xlabel(\"Sample Mean\")\n",
        "plt.ylabel(\"Density\")\n",
        "plt.grid(True)\n",
        "\n",
        "plt.tight_layout()\n",
        "plt.show()\n"
      ],
      "metadata": {
        "id": "iClRQ0-bsQ4j"
      },
      "execution_count": null,
      "outputs": []
    },
    {
      "cell_type": "markdown",
      "source": [
        "Explanation: Uniform Distribution:\n",
        "\n",
        "np.random.uniform(low=0, high=1, size=10000) generates data uniformly between 0 and 1.\n",
        "\n",
        "This is a flat distribution, not normal.\n",
        "\n",
        "Sample Means:\n",
        "\n",
        "We take 1000 random samples (with replacement), each of size 30, and compute their mean.\n",
        "\n",
        "These means are stored in sample_means.\n",
        "\n",
        "CLT in Action:\n",
        "\n",
        "The first plot shows a flat (uniform) distribution.\n",
        "\n",
        "The second plot (distribution of sample means) appears bell-shaped, showing that:\n",
        "\n",
        "Even if the population is not normal, the distribution of sample means approaches a normal distribution as n increases."
      ],
      "metadata": {
        "id": "5LMT5OHbscO_"
      }
    }
  ]
}